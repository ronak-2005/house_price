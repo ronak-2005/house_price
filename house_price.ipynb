{
 "cells": [
  {
   "cell_type": "code",
   "execution_count": 1,
   "id": "433de03c",
   "metadata": {},
   "outputs": [],
   "source": [
    "import numpy as np \n",
    "import pandas as pd \n",
    "import matplotlib.pyplot as plt\n",
    "import seaborn as sns \n",
    "from scipy.stats import skew \n",
    "from sklearn.preprocessing import PowerTransformer \n",
    "from sklearn.model_selection import train_test_split \n",
    "from sklearn.pipeline import Pipeline \n",
    "from sklearn.preprocessing import StandardScaler,OneHotEncoder \n",
    "from sklearn.linear_model import LinearRegression \n",
    "from sklearn.metrics import mean_squared_error \n",
    "from sklearn.ensemble import RandomForestRegressor \n",
    "from sklearn.compose import ColumnTransformer \n",
    "from sklearn.metrics import make_scorer,r2_score, mean_absolute_error \n",
    "from xgboost import XGBRegressor \n",
    "from sklearn.model_selection import cross_val_score \n",
    "from sklearn.impute import SimpleImputer\n",
    "from sklearn.model_selection import GridSearchCV\n",
    "import joblib"
   ]
  },
  {
   "cell_type": "code",
   "execution_count": 2,
   "id": "88a92530",
   "metadata": {},
   "outputs": [],
   "source": [
    "train_df=pd.read_csv('train.csv') \n",
    "test_df=pd.read_csv('test.csv')\n",
    "\n",
    "threshold_relation = 0.05 \n",
    "threshold = 0.9 \n",
    "dropped_empty = [] \n",
    "dropped_relation = [] \n",
    "target = 'SalePrice'"
   ]
  },
  {
   "cell_type": "code",
   "execution_count": 3,
   "id": "4279cee4",
   "metadata": {},
   "outputs": [
    {
     "name": "stdout",
     "output_type": "stream",
     "text": [
      "Dropped columns: ['Alley', 'PoolQC', 'MiscFeature']\n",
      "Dropped columns: ['Id', 'BsmtFinSF2', 'LowQualFinSF', 'BsmtHalfBath', '3SsnPorch', 'MiscVal', 'MoSold', 'YrSold']\n"
     ]
    }
   ],
   "source": [
    "for col in train_df.columns: \n",
    "    null_fraction = train_df[col].isnull().mean() \n",
    "    if null_fraction > threshold: \n",
    "        train_df.drop(columns=[col], inplace=True) \n",
    "        test_df.drop(columns=[col], inplace=True) \n",
    "        dropped_empty.append(col) \n",
    "        \n",
    "for col in train_df.columns: \n",
    "    if col == target: \n",
    "        continue \n",
    "    if pd.api.types.is_numeric_dtype(train_df[col]):\n",
    "         corr = train_df[col].corr(train_df[target]) \n",
    "         if abs(corr) < threshold_relation: \n",
    "            dropped_relation.append(col) \n",
    "            train_df.drop(columns=[col], inplace=True) \n",
    "            test_df.drop(columns=[col], inplace=True) \n",
    "            \n",
    "print(\"Dropped columns:\", dropped_empty) \n",
    "print(\"Dropped columns:\", dropped_relation)"
   ]
  },
  {
   "cell_type": "code",
   "execution_count": 4,
   "id": "339eb9e4",
   "metadata": {},
   "outputs": [],
   "source": [
    "numeric_transform = Pipeline(steps=[ \n",
    "    (\"imputer\", SimpleImputer(strategy=\"median\")), \n",
    "    (\"scaler\", StandardScaler()) \n",
    "    ])\n",
    "    \n",
    "categorical_transform = Pipeline(steps=[\n",
    "     (\"imputer\", SimpleImputer(strategy=\"most_frequent\")), \n",
    "     (\"encoder\", OneHotEncoder(handle_unknown=\"ignore\")) \n",
    "     ])"
   ]
  },
  {
   "cell_type": "code",
   "execution_count": 5,
   "id": "c9e46e76",
   "metadata": {},
   "outputs": [],
   "source": [
    "X = train_df.drop(columns=['SalePrice']) \n",
    "joblib.dump(X.columns.tolist(), \"features.pkl\")\n",
    "y = train_df['SalePrice'] \n",
    "\n",
    "X_train, X_val, y_train, y_val = train_test_split( \n",
    "    X, y, test_size=0.2, random_state=42 \n",
    ")"
   ]
  },
  {
   "cell_type": "code",
   "execution_count": 6,
   "id": "250305b2",
   "metadata": {},
   "outputs": [],
   "source": [
    "numeric_feat = train_df.select_dtypes(include=['int64','float64']).columns.drop('SalePrice') \n",
    "categorical_feat = train_df.select_dtypes(include=['object']).columns \n",
    "\n",
    "preprocessor = ColumnTransformer( \n",
    "    transformers=[ \n",
    "        ('nums',numeric_transform,numeric_feat), \n",
    "        ('cate',categorical_transform,categorical_feat) \n",
    "        ] \n",
    ") \n",
    "\n",
    "pipeline_lr = Pipeline([ \n",
    "    ('preprocess',preprocessor), \n",
    "    ('model',LinearRegression()) \n",
    "])\n",
    "\n",
    "pipeline_rf = Pipeline([ \n",
    "    ('preprocess',preprocessor), \n",
    "    ('model',RandomForestRegressor(random_state=42)) \n",
    "]) \n",
    "\n",
    "pipeline_xgb = Pipeline([ \n",
    "    ('preprocess', preprocessor), \n",
    "    ('model', XGBRegressor(random_state=42, n_estimators=100)) \n",
    "])"
   ]
  },
  {
   "cell_type": "code",
   "execution_count": 7,
   "id": "9db3a788",
   "metadata": {},
   "outputs": [],
   "source": [
    "pipelines = {\n",
    "    'LinearRegression': pipeline_lr,\n",
    "    'RandomForest': pipeline_rf,\n",
    "    'XGBoost': pipeline_xgb\n",
    "}\n",
    "\n",
    "param_grids = {\n",
    "   'LinearRegression': {\n",
    "        \"model__fit_intercept\": [True, False],\n",
    "    },\n",
    "    'RandomForest': {       \n",
    "        \"model__n_estimators\": [200,400,600],\n",
    "        \"model__max_depth\": [None, 10,20,30],\n",
    "        \"model__min_samples_split\": [2,5,10],\n",
    "        \"model__min_samples_leaf\": [1, 2,4],\n",
    "    },\n",
    "    'XGBoost': {\n",
    "        \"model__n_estimators\": [300,500, 800],        \n",
    "        \"model__max_depth\": [3, 6,9],               \n",
    "        \"model__learning_rate\": [0.05, 0.1],      \n",
    "        \"model__subsample\": [0.8,1],                \n",
    "        \"model__colsample_bytree\": [0.8,1],          \n",
    "        \"model__min_child_weight\": [1, 3],        \n",
    "        \"model__reg_lambda\": [1, 2]             \n",
    "}\n",
    "}\n",
    "best_models={}"
   ]
  },
  {
   "cell_type": "code",
   "execution_count": 8,
   "id": "d72262ec",
   "metadata": {},
   "outputs": [
    {
     "name": "stdout",
     "output_type": "stream",
     "text": [
      "Running search for LinearRegression...\n"
     ]
    },
    {
     "name": "stdout",
     "output_type": "stream",
     "text": [
      "Best params for LinearRegression: {'model__fit_intercept': False}\n",
      "Best CV R² for LinearRegression: 0.7557\n",
      "\n",
      "Running search for RandomForest...\n",
      "Best params for RandomForest: {'model__max_depth': None, 'model__min_samples_leaf': 2, 'model__min_samples_split': 2, 'model__n_estimators': 400}\n",
      "Best CV R² for RandomForest: 0.8411\n",
      "\n",
      "Running search for XGBoost...\n",
      "Best params for XGBoost: {'model__colsample_bytree': 0.8, 'model__learning_rate': 0.05, 'model__max_depth': 3, 'model__min_child_weight': 1, 'model__n_estimators': 800, 'model__reg_lambda': 1, 'model__subsample': 0.8}\n",
      "Best CV R² for XGBoost: 0.8772\n",
      "\n",
      "LinearRegression - RMSE: 29594.6644, MAE: 18158.1097, R²: 0.8858\n",
      "RandomForest - RMSE: 29039.9431, MAE: 17548.0883, R²: 0.8901\n",
      "XGBoost - RMSE: 24021.1480, MAE: 15134.0449, R²: 0.9248\n"
     ]
    }
   ],
   "source": [
    "best_models = {}\n",
    "\n",
    "for name, pipeline in pipelines.items():\n",
    "    print(f\"Running search for {name}...\")\n",
    "    grid = GridSearchCV(pipeline, param_grids[name], cv=5, scoring='r2', n_jobs=-1)\n",
    "    grid.fit(X_train, y_train)\n",
    "    best_models[name] = grid.best_estimator_\n",
    "    print(f\"Best params for {name}: {grid.best_params_}\")\n",
    "    print(f\"Best CV R² for {name}: {grid.best_score_:.4f}\\n\")\n",
    "\n",
    "\n",
    "for name, model in best_models.items():\n",
    "    y_pred = model.predict(X_val)\n",
    "    rmse = np.sqrt(mean_squared_error(y_val, y_pred))\n",
    "    mae = mean_absolute_error(y_val, y_pred)\n",
    "    r2 = r2_score(y_val, y_pred)\n",
    "    print(f\"{name} - RMSE: {rmse:.4f}, MAE: {mae:.4f}, R²: {r2:.4f}\")"
   ]
  },
  {
   "cell_type": "code",
   "execution_count": 14,
   "id": "be3ef99f",
   "metadata": {},
   "outputs": [],
   "source": [
    "y_predict_l = best_models['LinearRegression'].predict(X_val)\n",
    "y_predict_t = best_models['RandomForest'].predict(X_val)\n",
    "y_predict_xgb = best_models['XGBoost'].predict(X_val)\n",
    "\n",
    "mse_r = mean_squared_error(y_val, y_predict_l)\n",
    "mae_r = mean_absolute_error(y_val, y_predict_l)\n",
    "rmse_r = np.sqrt(mse_r)\n",
    "r2_linear = r2_score(y_val, y_predict_l)\n",
    "\n",
    "\n",
    "mse_t = mean_squared_error(y_val, y_predict_t)\n",
    "mae_t = mean_absolute_error(y_val, y_predict_t)\n",
    "rmse_t = np.sqrt(mse_t)\n",
    "r2_random = r2_score(y_val, y_predict_t)\n",
    "\n",
    "\n",
    "rmse_xgb = np.sqrt(mean_squared_error(y_val, y_predict_xgb))\n",
    "mae_xgb = mean_absolute_error(y_val, y_predict_xgb)\n",
    "r2_xgb = r2_score(y_val, y_predict_xgb)"
   ]
  },
  {
   "cell_type": "code",
   "execution_count": null,
   "id": "094705dd",
   "metadata": {},
   "outputs": [],
   "source": []
  },
  {
   "cell_type": "code",
   "execution_count": 13,
   "id": "299eb818",
   "metadata": {},
   "outputs": [
    {
     "name": "stdout",
     "output_type": "stream",
     "text": [
      "Linear Regression RMSE: 29594.6644\n",
      "Linear Regression MSE: 875844162.1447\n",
      "Linear Regression MAE: 18158.1097\n",
      "Linaer R²: 0.8858\n",
      "Random Forest RMSE: 29039.9431\n",
      "Random Forest MSE: 843318293.9934\n",
      "Random Forest MAE: 17548.0883\n",
      "Random R²: 0.8901\n",
      "XGBoost RMSE: 24021.1480\n",
      "XGBoost MAE: 15134.0449\n",
      "XGBoost R²: 0.9248\n"
     ]
    }
   ],
   "source": [
    "print(f\"Linear Regression RMSE: {rmse_r:.4f}\") \n",
    "print(f\"Linear Regression MSE: {mse_r:.4f}\") \n",
    "print(f\"Linear Regression MAE: {mae_r:.4f}\") \n",
    "print(f\"Linaer R²: {r2_linear:.4f}\") \n",
    "print(f\"Random Forest RMSE: {rmse_t:.4f}\") \n",
    "print(f\"Random Forest MSE: {mse_t:.4f}\") \n",
    "print(f\"Random Forest MAE: {mae_t:.4f}\") \n",
    "print(f\"Random R²: {r2_random:.4f}\") \n",
    "print(f\"XGBoost RMSE: {rmse_xgb:.4f}\") \n",
    "print(f\"XGBoost MAE: {mae_xgb:.4f}\") \n",
    "print(f\"XGBoost R²: {r2_xgb:.4f}\") "
   ]
  },
  {
   "cell_type": "code",
   "execution_count": 15,
   "id": "44d5c6e2",
   "metadata": {},
   "outputs": [
    {
     "name": "stdout",
     "output_type": "stream",
     "text": [
      "Linear result :[117284.68046892 165773.64923134 187019.04493292 ... 184074.20946058\n",
      " 109284.45779602 223852.76664729]\n",
      "Tree result :[128040.47492063 153604.30427579 179569.84242262 ... 155650.142\n",
      " 118563.96333333 223221.017625  ]\n",
      "XGB result[122112.62 167339.   183017.11 ... 173105.92 122493.59 217460.97]\n"
     ]
    }
   ],
   "source": [
    "test_predict_lr=best_models['LinearRegression'].predict(test_df) \n",
    " \n",
    "\n",
    "test_predict_rf=best_models['RandomForest'].predict(test_df) \n",
    "\n",
    "\n",
    "test_predict_xgb=best_models[\"XGBoost\"].predict(test_df) \n",
    " \n",
    "print(f\"Linear result :{test_predict_lr}\") \n",
    "print(f\"Tree result :{test_predict_rf}\") \n",
    "print(f\"XGB result{test_predict_xgb}\")"
   ]
  },
  {
   "cell_type": "code",
   "execution_count": 16,
   "id": "81b1ffce",
   "metadata": {},
   "outputs": [
    {
     "data": {
      "text/plain": [
       "['house_price.pkl']"
      ]
     },
     "execution_count": 16,
     "metadata": {},
     "output_type": "execute_result"
    }
   ],
   "source": [
    "joblib.dump(best_models[\"XGBoost\"], \"house_price.pkl\")\n"
   ]
  }
 ],
 "metadata": {
  "kernelspec": {
   "display_name": "venv",
   "language": "python",
   "name": "python3"
  },
  "language_info": {
   "codemirror_mode": {
    "name": "ipython",
    "version": 3
   },
   "file_extension": ".py",
   "mimetype": "text/x-python",
   "name": "python",
   "nbconvert_exporter": "python",
   "pygments_lexer": "ipython3",
   "version": "3.11.2"
  }
 },
 "nbformat": 4,
 "nbformat_minor": 5
}
